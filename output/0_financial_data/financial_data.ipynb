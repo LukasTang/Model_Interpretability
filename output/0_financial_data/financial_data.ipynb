{
 "cells": [
  {
   "cell_type": "code",
   "execution_count": 1,
   "id": "4276e1e3",
   "metadata": {
    "execution": {
     "iopub.execute_input": "2024-09-28T20:03:22.273082Z",
     "iopub.status.busy": "2024-09-28T20:03:22.272729Z",
     "iopub.status.idle": "2024-09-28T20:03:22.280912Z",
     "shell.execute_reply": "2024-09-28T20:03:22.280461Z"
    },
    "papermill": {
     "duration": 0.01444,
     "end_time": "2024-09-28T20:03:22.282385",
     "exception": false,
     "start_time": "2024-09-28T20:03:22.267945",
     "status": "completed"
    },
    "tags": [
     "parameters"
    ]
   },
   "outputs": [],
   "source": [
    "# declare a list tasks whose products you want to use as inputs\n",
    "upstream = None\n",
    "#stock_param = None\n"
   ]
  },
  {
   "cell_type": "code",
   "execution_count": 2,
   "id": "7be2a6a3",
   "metadata": {
    "execution": {
     "iopub.execute_input": "2024-09-28T20:03:22.286214Z",
     "iopub.status.busy": "2024-09-28T20:03:22.286010Z",
     "iopub.status.idle": "2024-09-28T20:03:22.288413Z",
     "shell.execute_reply": "2024-09-28T20:03:22.288068Z"
    },
    "papermill": {
     "duration": 0.005422,
     "end_time": "2024-09-28T20:03:22.289598",
     "exception": false,
     "start_time": "2024-09-28T20:03:22.284176",
     "status": "completed"
    },
    "tags": [
     "injected-parameters"
    ]
   },
   "outputs": [],
   "source": [
    "# Parameters\n",
    "product = {\"data\": \"/Users/lukastang/Documents/GitHub/Model_Interpretability/output/0_financial_data/financial_data.csv\", \"nb\": \"/Users/lukastang/Documents/GitHub/Model_Interpretability/output/0_financial_data/financial_data.ipynb\"}\n"
   ]
  },
  {
   "cell_type": "code",
   "execution_count": 3,
   "id": "9bc8786a",
   "metadata": {
    "execution": {
     "iopub.execute_input": "2024-09-28T20:03:22.293706Z",
     "iopub.status.busy": "2024-09-28T20:03:22.293421Z",
     "iopub.status.idle": "2024-09-28T20:03:22.620171Z",
     "shell.execute_reply": "2024-09-28T20:03:22.619824Z"
    },
    "papermill": {
     "duration": 0.330654,
     "end_time": "2024-09-28T20:03:22.621302",
     "exception": false,
     "start_time": "2024-09-28T20:03:22.290648",
     "status": "completed"
    },
    "tags": []
   },
   "outputs": [],
   "source": [
    "import yfinance as yf\n",
    "import datetime"
   ]
  },
  {
   "cell_type": "code",
   "execution_count": 4,
   "id": "a50de348",
   "metadata": {
    "execution": {
     "iopub.execute_input": "2024-09-28T20:03:22.623423Z",
     "iopub.status.busy": "2024-09-28T20:03:22.623272Z",
     "iopub.status.idle": "2024-09-28T20:03:22.625062Z",
     "shell.execute_reply": "2024-09-28T20:03:22.624831Z"
    },
    "papermill": {
     "duration": 0.003729,
     "end_time": "2024-09-28T20:03:22.625903",
     "exception": false,
     "start_time": "2024-09-28T20:03:22.622174",
     "status": "completed"
    },
    "tags": []
   },
   "outputs": [],
   "source": [
    "start = datetime.datetime(2018,1,1)\n",
    "end = datetime.datetime(2020,1,1)"
   ]
  },
  {
   "cell_type": "code",
   "execution_count": 5,
   "id": "25bd9872",
   "metadata": {
    "execution": {
     "iopub.execute_input": "2024-09-28T20:03:22.627589Z",
     "iopub.status.busy": "2024-09-28T20:03:22.627490Z",
     "iopub.status.idle": "2024-09-28T20:03:23.252971Z",
     "shell.execute_reply": "2024-09-28T20:03:23.252692Z"
    },
    "papermill": {
     "duration": 0.62734,
     "end_time": "2024-09-28T20:03:23.253876",
     "exception": false,
     "start_time": "2024-09-28T20:03:22.626536",
     "status": "completed"
    },
    "tags": []
   },
   "outputs": [
    {
     "name": "stderr",
     "output_type": "stream",
     "text": [
      "\r",
      "[*********************100%***********************]  1 of 1 completed"
     ]
    },
    {
     "name": "stderr",
     "output_type": "stream",
     "text": [
      "\n"
     ]
    },
    {
     "data": {
      "text/html": [
       "<div>\n",
       "<style scoped>\n",
       "    .dataframe tbody tr th:only-of-type {\n",
       "        vertical-align: middle;\n",
       "    }\n",
       "\n",
       "    .dataframe tbody tr th {\n",
       "        vertical-align: top;\n",
       "    }\n",
       "\n",
       "    .dataframe thead th {\n",
       "        text-align: right;\n",
       "    }\n",
       "</style>\n",
       "<table border=\"1\" class=\"dataframe\">\n",
       "  <thead>\n",
       "    <tr style=\"text-align: right;\">\n",
       "      <th></th>\n",
       "      <th>Open</th>\n",
       "      <th>High</th>\n",
       "      <th>Low</th>\n",
       "      <th>Close</th>\n",
       "      <th>Adj Close</th>\n",
       "      <th>Volume</th>\n",
       "    </tr>\n",
       "    <tr>\n",
       "      <th>Date</th>\n",
       "      <th></th>\n",
       "      <th></th>\n",
       "      <th></th>\n",
       "      <th></th>\n",
       "      <th></th>\n",
       "      <th></th>\n",
       "    </tr>\n",
       "  </thead>\n",
       "  <tbody>\n",
       "    <tr>\n",
       "      <th>1980-12-12</th>\n",
       "      <td>0.128348</td>\n",
       "      <td>0.128906</td>\n",
       "      <td>0.128348</td>\n",
       "      <td>0.128348</td>\n",
       "      <td>0.098943</td>\n",
       "      <td>469033600</td>\n",
       "    </tr>\n",
       "    <tr>\n",
       "      <th>1980-12-15</th>\n",
       "      <td>0.122210</td>\n",
       "      <td>0.122210</td>\n",
       "      <td>0.121652</td>\n",
       "      <td>0.121652</td>\n",
       "      <td>0.093781</td>\n",
       "      <td>175884800</td>\n",
       "    </tr>\n",
       "    <tr>\n",
       "      <th>1980-12-16</th>\n",
       "      <td>0.113281</td>\n",
       "      <td>0.113281</td>\n",
       "      <td>0.112723</td>\n",
       "      <td>0.112723</td>\n",
       "      <td>0.086898</td>\n",
       "      <td>105728000</td>\n",
       "    </tr>\n",
       "    <tr>\n",
       "      <th>1980-12-17</th>\n",
       "      <td>0.115513</td>\n",
       "      <td>0.116071</td>\n",
       "      <td>0.115513</td>\n",
       "      <td>0.115513</td>\n",
       "      <td>0.089049</td>\n",
       "      <td>86441600</td>\n",
       "    </tr>\n",
       "    <tr>\n",
       "      <th>1980-12-18</th>\n",
       "      <td>0.118862</td>\n",
       "      <td>0.119420</td>\n",
       "      <td>0.118862</td>\n",
       "      <td>0.118862</td>\n",
       "      <td>0.091630</td>\n",
       "      <td>73449600</td>\n",
       "    </tr>\n",
       "  </tbody>\n",
       "</table>\n",
       "</div>"
      ],
      "text/plain": [
       "                Open      High       Low     Close  Adj Close     Volume\n",
       "Date                                                                    \n",
       "1980-12-12  0.128348  0.128906  0.128348  0.128348   0.098943  469033600\n",
       "1980-12-15  0.122210  0.122210  0.121652  0.121652   0.093781  175884800\n",
       "1980-12-16  0.113281  0.113281  0.112723  0.112723   0.086898  105728000\n",
       "1980-12-17  0.115513  0.116071  0.115513  0.115513   0.089049   86441600\n",
       "1980-12-18  0.118862  0.119420  0.118862  0.118862   0.091630   73449600"
      ]
     },
     "execution_count": 5,
     "metadata": {},
     "output_type": "execute_result"
    }
   ],
   "source": [
    "data = yf.download('AAPL')\n",
    "data.head()"
   ]
  },
  {
   "cell_type": "code",
   "execution_count": 6,
   "id": "69562405",
   "metadata": {
    "execution": {
     "iopub.execute_input": "2024-09-28T20:03:23.256321Z",
     "iopub.status.busy": "2024-09-28T20:03:23.256197Z",
     "iopub.status.idle": "2024-09-28T20:03:23.299389Z",
     "shell.execute_reply": "2024-09-28T20:03:23.299047Z"
    },
    "papermill": {
     "duration": 0.045664,
     "end_time": "2024-09-28T20:03:23.300623",
     "exception": false,
     "start_time": "2024-09-28T20:03:23.254959",
     "status": "completed"
    },
    "tags": []
   },
   "outputs": [],
   "source": [
    "data.to_csv('output/0_financial_data/financial_data.csv', index=False)"
   ]
  }
 ],
 "metadata": {
  "jupytext": {
   "cell_metadata_filter": "tags,-all",
   "main_language": "python",
   "notebook_metadata_filter": "-all",
   "text_representation": {
    "extension": ".py",
    "format_name": "light"
   }
  },
  "kernelspec": {
   "display_name": "Python 3 (ipykernel)",
   "language": "python",
   "name": "python3"
  },
  "language_info": {
   "codemirror_mode": {
    "name": "ipython",
    "version": 3
   },
   "file_extension": ".py",
   "mimetype": "text/x-python",
   "name": "python",
   "nbconvert_exporter": "python",
   "pygments_lexer": "ipython3",
   "version": "3.10.14"
  },
  "papermill": {
   "duration": 1.828451,
   "end_time": "2024-09-28T20:03:23.518717",
   "exception": null,
   "input_path": "/var/folders/r7/71vqyh_566sb4rd655_gw2300000gn/T/tmpo9kbjcas.ipynb",
   "output_path": "/Users/lukastang/Documents/GitHub/Model_Interpretability/output/0_financial_data/financial_data.ipynb",
   "parameters": {
    "product": {
     "data": "/Users/lukastang/Documents/GitHub/Model_Interpretability/output/0_financial_data/financial_data.csv",
     "nb": "/Users/lukastang/Documents/GitHub/Model_Interpretability/output/0_financial_data/financial_data.ipynb"
    }
   },
   "start_time": "2024-09-28T20:03:21.690266"
  }
 },
 "nbformat": 4,
 "nbformat_minor": 5
}