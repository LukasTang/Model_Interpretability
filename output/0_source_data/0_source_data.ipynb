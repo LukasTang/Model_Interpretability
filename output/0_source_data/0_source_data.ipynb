{
 "cells": [
  {
   "cell_type": "code",
   "execution_count": 1,
   "id": "e7ab15e4",
   "metadata": {
    "execution": {
     "iopub.execute_input": "2024-10-06T16:50:27.798236Z",
     "iopub.status.busy": "2024-10-06T16:50:27.797831Z",
     "iopub.status.idle": "2024-10-06T16:50:27.807585Z",
     "shell.execute_reply": "2024-10-06T16:50:27.807071Z"
    },
    "papermill": {
     "duration": 0.020544,
     "end_time": "2024-10-06T16:50:27.809318",
     "exception": false,
     "start_time": "2024-10-06T16:50:27.788774",
     "status": "completed"
    },
    "tags": [
     "parameters"
    ]
   },
   "outputs": [],
   "source": [
    "# declare a list tasks whose products you want to use as inputs\n",
    "upstream = None\n"
   ]
  },
  {
   "cell_type": "code",
   "execution_count": 2,
   "id": "911d6f56",
   "metadata": {
    "execution": {
     "iopub.execute_input": "2024-10-06T16:50:27.816280Z",
     "iopub.status.busy": "2024-10-06T16:50:27.816052Z",
     "iopub.status.idle": "2024-10-06T16:50:27.818777Z",
     "shell.execute_reply": "2024-10-06T16:50:27.818186Z"
    },
    "papermill": {
     "duration": 0.007907,
     "end_time": "2024-10-06T16:50:27.820440",
     "exception": false,
     "start_time": "2024-10-06T16:50:27.812533",
     "status": "completed"
    },
    "tags": [
     "injected-parameters"
    ]
   },
   "outputs": [],
   "source": [
    "# Parameters\n",
    "product = {\"data\": \"/Users/lukastang/Documents/GitHub/Model_Interpretability/output/0_source_data/obesity_dataset.csv\", \"nb\": \"/Users/lukastang/Documents/GitHub/Model_Interpretability/output/0_source_data/0_source_data.ipynb\", \"on_finish\": \"/Users/lukastang/Documents/GitHub/Model_Interpretability/0_source_data_test.py\"}\n"
   ]
  },
  {
   "cell_type": "code",
   "execution_count": 3,
   "id": "bf1ac98d",
   "metadata": {
    "execution": {
     "iopub.execute_input": "2024-10-06T16:50:27.826342Z",
     "iopub.status.busy": "2024-10-06T16:50:27.826144Z",
     "iopub.status.idle": "2024-10-06T16:50:42.479581Z",
     "shell.execute_reply": "2024-10-06T16:50:42.479294Z"
    },
    "papermill": {
     "duration": 14.657121,
     "end_time": "2024-10-06T16:50:42.480694",
     "exception": false,
     "start_time": "2024-10-06T16:50:27.823573",
     "status": "completed"
    },
    "tags": []
   },
   "outputs": [],
   "source": [
    "import numpy as np\n",
    "import pandas as pd\n",
    "import os\n",
    "import matplotlib.pyplot as plt\n",
    "import seaborn as sns\n",
    "from plotnine import ggplot, aes, geom_bar, theme_minimal, labs, theme, element_text"
   ]
  },
  {
   "cell_type": "code",
   "execution_count": 4,
   "id": "f9b33640",
   "metadata": {
    "execution": {
     "iopub.execute_input": "2024-10-06T16:50:42.483889Z",
     "iopub.status.busy": "2024-10-06T16:50:42.483711Z",
     "iopub.status.idle": "2024-10-06T16:50:42.485676Z",
     "shell.execute_reply": "2024-10-06T16:50:42.485369Z"
    },
    "papermill": {
     "duration": 0.004558,
     "end_time": "2024-10-06T16:50:42.486640",
     "exception": false,
     "start_time": "2024-10-06T16:50:42.482082",
     "status": "completed"
    },
    "tags": []
   },
   "outputs": [],
   "source": [
    "# file path to data\n",
    "filename = \"/Users/lukastang/Documents/GitHub/Model_Interpretability/data/Obesity_Dataset.xlsx\""
   ]
  },
  {
   "cell_type": "code",
   "execution_count": 5,
   "id": "d22ff92e",
   "metadata": {
    "execution": {
     "iopub.execute_input": "2024-10-06T16:50:42.490038Z",
     "iopub.status.busy": "2024-10-06T16:50:42.489886Z",
     "iopub.status.idle": "2024-10-06T16:50:42.726455Z",
     "shell.execute_reply": "2024-10-06T16:50:42.726104Z"
    },
    "papermill": {
     "duration": 0.239516,
     "end_time": "2024-10-06T16:50:42.727537",
     "exception": false,
     "start_time": "2024-10-06T16:50:42.488021",
     "status": "completed"
    },
    "tags": []
   },
   "outputs": [],
   "source": [
    "# Read the Excel file\n",
    "# Define the relative path to the folder and the Excel file\n",
    "obesity_dataset = pd.read_excel(filename , sheet_name=\"obesity_dataset\")\n",
    "obesity_dataset_mappings = pd.read_excel(filename, sheet_name=\"mappings\")"
   ]
  },
  {
   "cell_type": "code",
   "execution_count": 6,
   "id": "f8b5c0fc",
   "metadata": {
    "execution": {
     "iopub.execute_input": "2024-10-06T16:50:42.730854Z",
     "iopub.status.busy": "2024-10-06T16:50:42.730690Z",
     "iopub.status.idle": "2024-10-06T16:50:42.735576Z",
     "shell.execute_reply": "2024-10-06T16:50:42.735282Z"
    },
    "lines_to_next_cell": 1,
    "papermill": {
     "duration": 0.007529,
     "end_time": "2024-10-06T16:50:42.736567",
     "exception": false,
     "start_time": "2024-10-06T16:50:42.729038",
     "status": "completed"
    },
    "tags": []
   },
   "outputs": [
    {
     "name": "stdout",
     "output_type": "stream",
     "text": [
      "   Sex  Age  Height  Overweight_Obese_Family  Consumption_of_Fast_Food  \\\n",
      "0    2   18     155                        2                         2   \n",
      "1    2   18     158                        2                         2   \n",
      "2    2   18     159                        2                         2   \n",
      "3    2   18     162                        2                         2   \n",
      "4    2   18     165                        2                         1   \n",
      "\n",
      "   Frequency_of_Consuming_Vegetables  Number_of_Main_Meals_Daily  \\\n",
      "0                                  3                           1   \n",
      "1                                  3                           1   \n",
      "2                                  2                           1   \n",
      "3                                  2                           2   \n",
      "4                                  2                           1   \n",
      "\n",
      "   Food_Intake_Between_Meals  Smoking  Liquid_Intake_Daily  \\\n",
      "0                          3        2                    1   \n",
      "1                          1        2                    1   \n",
      "2                          3        2                    3   \n",
      "3                          2        2                    2   \n",
      "4                          3        2                    1   \n",
      "\n",
      "   Calculation_of_Calorie_Intake  Physical_Excercise  \\\n",
      "0                              2                   3   \n",
      "1                              2                   1   \n",
      "2                              2                   2   \n",
      "3                              2                   1   \n",
      "4                              2                   3   \n",
      "\n",
      "   Schedule_Dedicated_to_Technology  Type_of_Transportation_Used  Class  \n",
      "0                                 3                            4      2  \n",
      "1                                 3                            3      2  \n",
      "2                                 3                            4      2  \n",
      "3                                 3                            4      2  \n",
      "4                                 3                            2      2  \n"
     ]
    }
   ],
   "source": [
    "# Print the head of the dataset\n",
    "print(obesity_dataset.head())"
   ]
  },
  {
   "cell_type": "code",
   "execution_count": 7,
   "id": "672d393c",
   "metadata": {
    "execution": {
     "iopub.execute_input": "2024-10-06T16:50:42.739962Z",
     "iopub.status.busy": "2024-10-06T16:50:42.739739Z",
     "iopub.status.idle": "2024-10-06T16:50:42.742139Z",
     "shell.execute_reply": "2024-10-06T16:50:42.741710Z"
    },
    "lines_to_next_cell": 1,
    "papermill": {
     "duration": 0.005072,
     "end_time": "2024-10-06T16:50:42.743142",
     "exception": false,
     "start_time": "2024-10-06T16:50:42.738070",
     "status": "completed"
    },
    "tags": []
   },
   "outputs": [],
   "source": [
    "def map_variable(df, mappings, variable):\n",
    "    mapping_dict = mappings[mappings['Variable'] == variable].set_index('Value')['Mapping'].to_dict()\n",
    "    df[variable + '_mapped'] = df[variable].map(mapping_dict)"
   ]
  },
  {
   "cell_type": "code",
   "execution_count": 8,
   "id": "679d3562",
   "metadata": {
    "execution": {
     "iopub.execute_input": "2024-10-06T16:50:42.746553Z",
     "iopub.status.busy": "2024-10-06T16:50:42.746430Z",
     "iopub.status.idle": "2024-10-06T16:50:42.748288Z",
     "shell.execute_reply": "2024-10-06T16:50:42.748035Z"
    },
    "papermill": {
     "duration": 0.004479,
     "end_time": "2024-10-06T16:50:42.749164",
     "exception": false,
     "start_time": "2024-10-06T16:50:42.744685",
     "status": "completed"
    },
    "tags": []
   },
   "outputs": [],
   "source": [
    "variables_to_map = [\n",
    "    'Sex', 'Overweight_Obese_Family', 'Consumption_of_Fast_Food', \n",
    "    'Frequency_of_Consuming_Vegetables', 'Number_of_Main_Meals_Daily', \n",
    "    'Food_Intake_Between_Meals', 'Smoking', 'Liquid_Intake_Daily', \n",
    "    'Calculation_of_Calorie_Intake', 'Physical_Excercise', \n",
    "    'Schedule_Dedicated_to_Technology', 'Type_of_Transportation_Used', 'Class'\n",
    "]"
   ]
  },
  {
   "cell_type": "code",
   "execution_count": 9,
   "id": "0f909539",
   "metadata": {
    "execution": {
     "iopub.execute_input": "2024-10-06T16:50:42.752692Z",
     "iopub.status.busy": "2024-10-06T16:50:42.752561Z",
     "iopub.status.idle": "2024-10-06T16:50:42.762615Z",
     "shell.execute_reply": "2024-10-06T16:50:42.762316Z"
    },
    "papermill": {
     "duration": 0.013178,
     "end_time": "2024-10-06T16:50:42.763738",
     "exception": false,
     "start_time": "2024-10-06T16:50:42.750560",
     "status": "completed"
    },
    "tags": []
   },
   "outputs": [],
   "source": [
    "for variable in variables_to_map:\n",
    "    map_variable(obesity_dataset, obesity_dataset_mappings, variable)"
   ]
  },
  {
   "cell_type": "code",
   "execution_count": 10,
   "id": "44cbd65f",
   "metadata": {
    "execution": {
     "iopub.execute_input": "2024-10-06T16:50:42.767506Z",
     "iopub.status.busy": "2024-10-06T16:50:42.767363Z",
     "iopub.status.idle": "2024-10-06T16:50:42.771420Z",
     "shell.execute_reply": "2024-10-06T16:50:42.771185Z"
    },
    "papermill": {
     "duration": 0.007114,
     "end_time": "2024-10-06T16:50:42.772322",
     "exception": false,
     "start_time": "2024-10-06T16:50:42.765208",
     "status": "completed"
    },
    "tags": []
   },
   "outputs": [
    {
     "name": "stdout",
     "output_type": "stream",
     "text": [
      "   Sex  Age  Height  Overweight_Obese_Family  Consumption_of_Fast_Food  \\\n",
      "0    2   18     155                        2                         2   \n",
      "1    2   18     158                        2                         2   \n",
      "2    2   18     159                        2                         2   \n",
      "3    2   18     162                        2                         2   \n",
      "4    2   18     165                        2                         1   \n",
      "\n",
      "   Frequency_of_Consuming_Vegetables  Number_of_Main_Meals_Daily  \\\n",
      "0                                  3                           1   \n",
      "1                                  3                           1   \n",
      "2                                  2                           1   \n",
      "3                                  2                           2   \n",
      "4                                  2                           1   \n",
      "\n",
      "   Food_Intake_Between_Meals  Smoking  Liquid_Intake_Daily  ...  \\\n",
      "0                          3        2                    1  ...   \n",
      "1                          1        2                    1  ...   \n",
      "2                          3        2                    3  ...   \n",
      "3                          2        2                    2  ...   \n",
      "4                          3        2                    1  ...   \n",
      "\n",
      "   Frequency_of_Consuming_Vegetables_mapped  \\\n",
      "0                                    Always   \n",
      "1                                    Always   \n",
      "2                                 Sometimes   \n",
      "3                                 Sometimes   \n",
      "4                                 Sometimes   \n",
      "\n",
      "   Number_of_Main_Meals_Daily_mapped  Food_Intake_Between_Meals_mapped  \\\n",
      "0                            1 or 2                            Usually   \n",
      "1                            1 or 2                             Rarely   \n",
      "2                            1 or 2                            Usually   \n",
      "3                                  3                         Sometimes   \n",
      "4                            1 or 2                            Usually   \n",
      "\n",
      "   Smoking_mapped  Liquid_Intake_Daily_mapped  \\\n",
      "0              No           Less than 1 Liter   \n",
      "1              No           Less than 1 Liter   \n",
      "2              No          More than 2 Liters   \n",
      "3              No      Between 1 and 2 Liters   \n",
      "4              No           Less than 1 Liter   \n",
      "\n",
      "  Calculation_of_Calorie_Intake_mapped Physical_Excercise_mapped  \\\n",
      "0                                   No         3-4 days per week   \n",
      "1                                   No                       NaN   \n",
      "2                                   No         1-2 days per week   \n",
      "3                                   No                       NaN   \n",
      "4                                   No         3-4 days per week   \n",
      "\n",
      "  Schedule_Dedicated_to_Technology_mapped Type_of_Transportation_Used_mapped  \\\n",
      "0              More than 5 hourse per day              Public Transportation   \n",
      "1              More than 5 hourse per day                               Bike   \n",
      "2              More than 5 hourse per day              Public Transportation   \n",
      "3              More than 5 hourse per day              Public Transportation   \n",
      "4              More than 5 hourse per day                          Motorbike   \n",
      "\n",
      "  Class_mapped  \n",
      "0       Normal  \n",
      "1       Normal  \n",
      "2       Normal  \n",
      "3       Normal  \n",
      "4       Normal  \n",
      "\n",
      "[5 rows x 28 columns]\n"
     ]
    }
   ],
   "source": [
    "# Print the head of the dataset with mapped variables\n",
    "print(obesity_dataset.head())"
   ]
  },
  {
   "cell_type": "markdown",
   "id": "779e647c",
   "metadata": {
    "papermill": {
     "duration": 0.001453,
     "end_time": "2024-10-06T16:50:42.775240",
     "exception": false,
     "start_time": "2024-10-06T16:50:42.773787",
     "status": "completed"
    },
    "tags": []
   },
   "source": [
    "Some Visualizations"
   ]
  },
  {
   "cell_type": "code",
   "execution_count": 11,
   "id": "43154e8b",
   "metadata": {
    "execution": {
     "iopub.execute_input": "2024-10-06T16:50:42.778618Z",
     "iopub.status.busy": "2024-10-06T16:50:42.778475Z",
     "iopub.status.idle": "2024-10-06T16:50:42.871857Z",
     "shell.execute_reply": "2024-10-06T16:50:42.871573Z"
    },
    "papermill": {
     "duration": 0.096245,
     "end_time": "2024-10-06T16:50:42.872875",
     "exception": false,
     "start_time": "2024-10-06T16:50:42.776630",
     "status": "completed"
    },
    "tags": []
   },
   "outputs": [
    {
     "data": {
      "image/png": "[encoded data removed]",
      "text/plain": [
       "<Figure size 1000x600 with 1 Axes>"
      ]
     },
     "metadata": {},
     "output_type": "display_data"
    }
   ],
   "source": [
    "# Plot distribution of the mapped 'Class' variable\n",
    "plt.figure(figsize=(10, 6))\n",
    "sns.countplot(data=obesity_dataset, x='Class_mapped')\n",
    "plt.title('Distribution of Obesity Classes')\n",
    "plt.xlabel('Obesity Class')\n",
    "plt.ylabel('Count')\n",
    "plt.xticks(rotation=45)\n",
    "plt.show()"
   ]
  },
  {
   "cell_type": "code",
   "execution_count": 12,
   "id": "a7cf1aa3",
   "metadata": {
    "execution": {
     "iopub.execute_input": "2024-10-06T16:50:42.877325Z",
     "iopub.status.busy": "2024-10-06T16:50:42.877171Z",
     "iopub.status.idle": "2024-10-06T16:50:42.883501Z",
     "shell.execute_reply": "2024-10-06T16:50:42.883178Z"
    },
    "papermill": {
     "duration": 0.009741,
     "end_time": "2024-10-06T16:50:42.884518",
     "exception": false,
     "start_time": "2024-10-06T16:50:42.874777",
     "status": "completed"
    },
    "tags": []
   },
   "outputs": [],
   "source": [
    "# Plot distribution of the mapped 'Class' variable using plotnine\n",
    "plot = (\n",
    "    ggplot(obesity_dataset, aes(x='Class_mapped')) +\n",
    "    geom_bar() +\n",
    "    theme_minimal() +\n",
    "    labs(title='Distribution of Obesity Classes', x='Obesity Class', y='Count') +\n",
    "    theme(axis_text_x=element_text(rotation=45, hjust=1))\n",
    ")"
   ]
  },
  {
   "cell_type": "code",
   "execution_count": 13,
   "id": "e6c23a9f",
   "metadata": {
    "execution": {
     "iopub.execute_input": "2024-10-06T16:50:42.888245Z",
     "iopub.status.busy": "2024-10-06T16:50:42.888113Z",
     "iopub.status.idle": "2024-10-06T16:50:43.045872Z",
     "shell.execute_reply": "2024-10-06T16:50:43.045569Z"
    },
    "papermill": {
     "duration": 0.161361,
     "end_time": "2024-10-06T16:50:43.047530",
     "exception": false,
     "start_time": "2024-10-06T16:50:42.886169",
     "status": "completed"
    },
    "tags": []
   },
   "outputs": [
    {
     "name": "stderr",
     "output_type": "stream",
     "text": [
      "/var/folders/r7/71vqyh_566sb4rd655_gw2300000gn/T/ipykernel_4805/1980431296.py:1: FutureWarning: Using print(plot) to draw and show the plot figure is deprecated and will be removed in a future version. Use plot.show().\n"
     ]
    },
    {
     "data": {
      "image/png": "[encoded data removed]"
     },
     "metadata": {
      "image/png": {
       "height": 480,
       "width": 640
      }
     },
     "output_type": "display_data"
    },
    {
     "name": "stdout",
     "output_type": "stream",
     "text": [
      "\n"
     ]
    }
   ],
   "source": [
    "print(plot)"
   ]
  },
  {
   "cell_type": "code",
   "execution_count": 14,
   "id": "96574275",
   "metadata": {
    "execution": {
     "iopub.execute_input": "2024-10-06T16:50:43.052214Z",
     "iopub.status.busy": "2024-10-06T16:50:43.052058Z",
     "iopub.status.idle": "2024-10-06T16:50:43.060554Z",
     "shell.execute_reply": "2024-10-06T16:50:43.060293Z"
    },
    "papermill": {
     "duration": 0.011699,
     "end_time": "2024-10-06T16:50:43.061394",
     "exception": false,
     "start_time": "2024-10-06T16:50:43.049695",
     "status": "completed"
    },
    "tags": []
   },
   "outputs": [],
   "source": [
    "# Save the DataFrame to a CSV file\n",
    "obesity_dataset.to_csv(\"output/0_source_data/obesity_dataset.csv\", index=False)"
   ]
  },
  {
   "cell_type": "code",
   "execution_count": 15,
   "id": "9467936f",
   "metadata": {
    "execution": {
     "iopub.execute_input": "2024-10-06T16:50:43.065706Z",
     "iopub.status.busy": "2024-10-06T16:50:43.065589Z",
     "iopub.status.idle": "2024-10-06T16:50:43.067705Z",
     "shell.execute_reply": "2024-10-06T16:50:43.067379Z"
    },
    "papermill": {
     "duration": 0.005318,
     "end_time": "2024-10-06T16:50:43.068608",
     "exception": false,
     "start_time": "2024-10-06T16:50:43.063290",
     "status": "completed"
    },
    "tags": []
   },
   "outputs": [
    {
     "name": "stdout",
     "output_type": "stream",
     "text": [
      "Obesity data generated and saved to 'obesity_dataset.csv'\n"
     ]
    }
   ],
   "source": [
    "print(\"Obesity data generated and saved to 'obesity_dataset.csv'\")"
   ]
  }
 ],
 "metadata": {
  "jupytext": {
   "cell_metadata_filter": "tags,-all",
   "main_language": "python",
   "notebook_metadata_filter": "-all",
   "text_representation": {
    "extension": ".py",
    "format_name": "light"
   }
  },
  "kernelspec": {
   "display_name": "Python 3 (ipykernel)",
   "language": "python",
   "name": "python3"
  },
  "language_info": {
   "codemirror_mode": {
    "name": "ipython",
    "version": 3
   },
   "file_extension": ".py",
   "mimetype": "text/x-python",
   "name": "python",
   "nbconvert_exporter": "python",
   "pygments_lexer": "ipython3",
   "version": "3.10.14"
  },
  "papermill": {
   "duration": 16.261827,
   "end_time": "2024-10-06T16:50:43.286759",
   "exception": null,
   "input_path": "/var/folders/r7/71vqyh_566sb4rd655_gw2300000gn/T/tmphrkkdxur.ipynb",
   "output_path": "/Users/lukastang/Documents/GitHub/Model_Interpretability/output/0_source_data/0_source_data.ipynb",
   "parameters": {
    "product": {
     "data": "/Users/lukastang/Documents/GitHub/Model_Interpretability/output/0_source_data/obesity_dataset.csv",
     "nb": "/Users/lukastang/Documents/GitHub/Model_Interpretability/output/0_source_data/0_source_data.ipynb",
     "on_finish": "/Users/lukastang/Documents/GitHub/Model_Interpretability/0_source_data_test.py"
    }
   },
   "start_time": "2024-10-06T16:50:27.024932"
  }
 },
 "nbformat": 4,
 "nbformat_minor": 5
}