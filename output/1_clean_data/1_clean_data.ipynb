{
 "cells": [
  {
   "cell_type": "code",
   "execution_count": 1,
   "id": "c0f17232",
   "metadata": {
    "execution": {
     "iopub.execute_input": "2024-09-28T16:22:12.093036Z",
     "iopub.status.busy": "2024-09-28T16:22:12.092603Z",
     "iopub.status.idle": "2024-09-28T16:22:12.100526Z",
     "shell.execute_reply": "2024-09-28T16:22:12.099945Z"
    },
    "papermill": {
     "duration": 0.014523,
     "end_time": "2024-09-28T16:22:12.102366",
     "exception": false,
     "start_time": "2024-09-28T16:22:12.087843",
     "status": "completed"
    },
    "tags": [
     "parameters"
    ]
   },
   "outputs": [],
   "source": [
    "# declare a list tasks whose products you want to use as inputsupstream = ['0_source_data']\n",
    "upstream = ['0_source_data']"
   ]
  },
  {
   "cell_type": "code",
   "execution_count": 2,
   "id": "041df4ae",
   "metadata": {
    "execution": {
     "iopub.execute_input": "2024-09-28T16:22:12.106655Z",
     "iopub.status.busy": "2024-09-28T16:22:12.106409Z",
     "iopub.status.idle": "2024-09-28T16:22:12.109412Z",
     "shell.execute_reply": "2024-09-28T16:22:12.109004Z"
    },
    "papermill": {
     "duration": 0.006761,
     "end_time": "2024-09-28T16:22:12.111100",
     "exception": false,
     "start_time": "2024-09-28T16:22:12.104339",
     "status": "completed"
    },
    "tags": [
     "injected-parameters"
    ]
   },
   "outputs": [],
   "source": [
    "# Parameters\n",
    "upstream = {\n",
    "    \"0_source_data\": {\n",
    "        \"data\": \"/Users/lukastang/Documents/GitHub/Model_Interpretability/output/0_source_data/artificial_data.csv\",\n",
    "        \"nb\": \"/Users/lukastang/Documents/GitHub/Model_Interpretability/output/0_source_data/0_source_data.ipynb\",\n",
    "    }\n",
    "}\n",
    "product = {\n",
    "    \"data\": \"/Users/lukastang/Documents/GitHub/Model_Interpretability/output/1_clean_data/clean_data.csv\",\n",
    "    \"nb\": \"/Users/lukastang/Documents/GitHub/Model_Interpretability/output/1_clean_data/1_clean_data.ipynb\",\n",
    "}\n"
   ]
  },
  {
   "cell_type": "code",
   "execution_count": 3,
   "id": "c05815fc",
   "metadata": {
    "execution": {
     "iopub.execute_input": "2024-09-28T16:22:12.114702Z",
     "iopub.status.busy": "2024-09-28T16:22:12.114489Z",
     "iopub.status.idle": "2024-09-28T16:22:12.331804Z",
     "shell.execute_reply": "2024-09-28T16:22:12.329656Z"
    },
    "papermill": {
     "duration": 0.222896,
     "end_time": "2024-09-28T16:22:12.335550",
     "exception": false,
     "start_time": "2024-09-28T16:22:12.112654",
     "status": "completed"
    },
    "tags": []
   },
   "outputs": [],
   "source": [
    "import pandas as pd"
   ]
  },
  {
   "cell_type": "code",
   "execution_count": 4,
   "id": "370c9a32",
   "metadata": {
    "execution": {
     "iopub.execute_input": "2024-09-28T16:22:12.345512Z",
     "iopub.status.busy": "2024-09-28T16:22:12.345093Z",
     "iopub.status.idle": "2024-09-28T16:22:12.361025Z",
     "shell.execute_reply": "2024-09-28T16:22:12.359865Z"
    },
    "papermill": {
     "duration": 0.022685,
     "end_time": "2024-09-28T16:22:12.365464",
     "exception": false,
     "start_time": "2024-09-28T16:22:12.342779",
     "status": "completed"
    },
    "tags": []
   },
   "outputs": [],
   "source": [
    "df = pd.read_csv(upstream['0_source_data']['data'])\n",
    "# some data cleaning code..."
   ]
  },
  {
   "cell_type": "code",
   "execution_count": 5,
   "id": "e39f6ce0",
   "metadata": {
    "execution": {
     "iopub.execute_input": "2024-09-28T16:22:12.371599Z",
     "iopub.status.busy": "2024-09-28T16:22:12.371095Z",
     "iopub.status.idle": "2024-09-28T16:22:12.382034Z",
     "shell.execute_reply": "2024-09-28T16:22:12.380330Z"
    },
    "papermill": {
     "duration": 0.017232,
     "end_time": "2024-09-28T16:22:12.385292",
     "exception": false,
     "start_time": "2024-09-28T16:22:12.368060",
     "status": "completed"
    },
    "tags": []
   },
   "outputs": [],
   "source": [
    "df.to_csv('output/1_clean_data/clean_data.csv', index=False)"
   ]
  },
  {
   "cell_type": "code",
   "execution_count": 6,
   "id": "d80b5711",
   "metadata": {
    "execution": {
     "iopub.execute_input": "2024-09-28T16:22:12.392145Z",
     "iopub.status.busy": "2024-09-28T16:22:12.391870Z",
     "iopub.status.idle": "2024-09-28T16:22:12.394052Z",
     "shell.execute_reply": "2024-09-28T16:22:12.393775Z"
    },
    "papermill": {
     "duration": 0.007459,
     "end_time": "2024-09-28T16:22:12.394981",
     "exception": false,
     "start_time": "2024-09-28T16:22:12.387522",
     "status": "completed"
    },
    "tags": []
   },
   "outputs": [
    {
     "name": "stdout",
     "output_type": "stream",
     "text": [
      "Cleaned data generated and saved to 'artificial_data.csv'\n"
     ]
    }
   ],
   "source": [
    "print(\"Cleaned data generated and saved to 'artificial_data.csv'\")"
   ]
  }
 ],
 "metadata": {
  "jupytext": {
   "cell_metadata_filter": "tags,-all",
   "main_language": "python",
   "notebook_metadata_filter": "-all",
   "text_representation": {
    "extension": ".py",
    "format_name": "light"
   }
  },
  "kernelspec": {
   "display_name": "Python 3 (ipykernel)",
   "language": "python",
   "name": "python3"
  },
  "language_info": {
   "codemirror_mode": {
    "name": "ipython",
    "version": 3
   },
   "file_extension": ".py",
   "mimetype": "text/x-python",
   "name": "python",
   "nbconvert_exporter": "python",
   "pygments_lexer": "ipython3",
   "version": "3.10.9"
  },
  "papermill": {
   "duration": 1.385428,
   "end_time": "2024-09-28T16:22:12.611254",
   "exception": null,
   "input_path": "/var/folders/r7/71vqyh_566sb4rd655_gw2300000gn/T/tmp078_xkhg.ipynb",
   "output_path": "/Users/lukastang/Documents/GitHub/Model_Interpretability/output/1_clean_data/1_clean_data.ipynb",
   "parameters": {
    "product": {
     "data": "/Users/lukastang/Documents/GitHub/Model_Interpretability/output/1_clean_data/clean_data.csv",
     "nb": "/Users/lukastang/Documents/GitHub/Model_Interpretability/output/1_clean_data/1_clean_data.ipynb"
    },
    "upstream": {
     "0_source_data": {
      "data": "/Users/lukastang/Documents/GitHub/Model_Interpretability/output/0_source_data/artificial_data.csv",
      "nb": "/Users/lukastang/Documents/GitHub/Model_Interpretability/output/0_source_data/0_source_data.ipynb"
     }
    }
   },
   "start_time": "2024-09-28T16:22:11.225826"
  }
 },
 "nbformat": 4,
 "nbformat_minor": 5
}