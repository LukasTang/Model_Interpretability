{
 "cells": [
  {
   "cell_type": "markdown",
   "id": "a9b15737",
   "metadata": {
    "tags": [
     "papermill-error-cell-tag"
    ]
   },
   "source": [
    "<span style=\"color:red; font-family:Helvetica Neue, Helvetica, Arial, sans-serif; font-size:2em;\">An Exception was encountered at '<a href=\"#papermill-error-cell\">In [3]</a>'.</span>"
   ]
  },
  {
   "cell_type": "code",
   "execution_count": 1,
   "id": "775ddc2a",
   "metadata": {
    "execution": {
     "iopub.execute_input": "2024-10-06T19:38:49.050133Z",
     "iopub.status.busy": "2024-10-06T19:38:49.049437Z",
     "iopub.status.idle": "2024-10-06T19:38:49.059140Z",
     "shell.execute_reply": "2024-10-06T19:38:49.058395Z"
    },
    "papermill": {
     "duration": 0.018276,
     "end_time": "2024-10-06T19:38:49.060937",
     "exception": false,
     "start_time": "2024-10-06T19:38:49.042661",
     "status": "completed"
    },
    "tags": [
     "parameters"
    ]
   },
   "outputs": [],
   "source": [
    "# declare a list tasks whose products you want to use as inputsupstream = ['0_source_data']\n",
    "upstream = ['0_source_data']"
   ]
  },
  {
   "cell_type": "code",
   "execution_count": 2,
   "id": "a2016fcb",
   "metadata": {
    "execution": {
     "iopub.execute_input": "2024-10-06T19:38:49.065229Z",
     "iopub.status.busy": "2024-10-06T19:38:49.064995Z",
     "iopub.status.idle": "2024-10-06T19:38:49.068342Z",
     "shell.execute_reply": "2024-10-06T19:38:49.067826Z"
    },
    "papermill": {
     "duration": 0.006583,
     "end_time": "2024-10-06T19:38:49.069654",
     "exception": false,
     "start_time": "2024-10-06T19:38:49.063071",
     "status": "completed"
    },
    "tags": [
     "injected-parameters"
    ]
   },
   "outputs": [],
   "source": [
    "# Parameters\n",
    "upstream = {\"0_source_data\": {\"obesity_data\": \"/Users/lukastang/Documents/GitHub/Model_Interpretability/output/0_source_data/Processed_Obesity_Dataset.csv\", \"obesity_mappings\": \"/Users/lukastang/Documents/GitHub/Model_Interpretability/output/0_source_data/Obesity_Dataset_Mappings.csv\", \"nb\": \"/Users/lukastang/Documents/GitHub/Model_Interpretability/output/0_source_data/0_source_data.ipynb\", \"on_finish\": \"/Users/lukastang/Documents/GitHub/Model_Interpretability/0_source_data_test.py\"}}\n",
    "product = {\"data\": \"/Users/lukastang/Documents/GitHub/Model_Interpretability/output/1_clean_data/clean_data.csv\", \"nb\": \"/Users/lukastang/Documents/GitHub/Model_Interpretability/output/1_clean_data/1_clean_data.ipynb\"}\n"
   ]
  },
  {
   "cell_type": "markdown",
   "id": "3fbd3140",
   "metadata": {
    "tags": [
     "papermill-error-cell-tag"
    ]
   },
   "source": [
    "<span id=\"papermill-error-cell\" style=\"color:red; font-family:Helvetica Neue, Helvetica, Arial, sans-serif; font-size:2em;\">Execution using papermill encountered an exception here and stopped:</span>"
   ]
  },
  {
   "cell_type": "code",
   "execution_count": 3,
   "id": "9776198d",
   "metadata": {
    "execution": {
     "iopub.execute_input": "2024-10-06T19:38:49.072962Z",
     "iopub.status.busy": "2024-10-06T19:38:49.072777Z",
     "iopub.status.idle": "2024-10-06T19:38:49.478250Z",
     "shell.execute_reply": "2024-10-06T19:38:49.477781Z"
    },
    "papermill": {
     "duration": 0.407882,
     "end_time": "2024-10-06T19:38:49.479033",
     "exception": true,
     "start_time": "2024-10-06T19:38:49.071151",
     "status": "failed"
    },
    "tags": []
   },
   "outputs": [
    {
     "ename": "ImportError",
     "evalue": "cannot import name 'extract_order' from partially initialized module 'obesity_utils' (most likely due to a circular import) (/Users/lukastang/Documents/GitHub/Model_Interpretability/obesity_utils/__init__.py)",
     "output_type": "error",
     "traceback": [
      "\u001b[0;31m---------------------------------------------------------------------------\u001b[0m",
      "\u001b[0;31mImportError\u001b[0m                               Traceback (most recent call last)",
      "Cell \u001b[0;32mIn[3], line 2\u001b[0m\n\u001b[1;32m      1\u001b[0m \u001b[38;5;28;01mimport\u001b[39;00m \u001b[38;5;21;01mpandas\u001b[39;00m \u001b[38;5;28;01mas\u001b[39;00m \u001b[38;5;21;01mpd\u001b[39;00m\n\u001b[0;32m----> 2\u001b[0m \u001b[38;5;28;01mfrom\u001b[39;00m \u001b[38;5;21;01mobesity_utils\u001b[39;00m \u001b[38;5;28;01mimport\u001b[39;00m set_categorical_order \u001b[38;5;28;01mas\u001b[39;00m ut\n",
      "File \u001b[0;32m~/Documents/GitHub/Model_Interpretability/obesity_utils/__init__.py:3\u001b[0m\n\u001b[1;32m      1\u001b[0m __all__ \u001b[38;5;241m=\u001b[39m [\u001b[38;5;124m\"\u001b[39m\u001b[38;5;124mextract_oder\u001b[39m\u001b[38;5;124m\"\u001b[39m,\u001b[38;5;124m\"\u001b[39m\u001b[38;5;124mset_categorical_order\u001b[39m\u001b[38;5;124m\"\u001b[39m]\n\u001b[0;32m----> 3\u001b[0m \u001b[38;5;28;01mfrom\u001b[39;00m \u001b[38;5;21;01m.\u001b[39;00m \u001b[38;5;28;01mimport\u001b[39;00m extract_order\n\u001b[1;32m      4\u001b[0m \u001b[38;5;28;01mfrom\u001b[39;00m \u001b[38;5;21;01m.\u001b[39;00m \u001b[38;5;28;01mimport\u001b[39;00m set_categorical_order\n",
      "\u001b[0;31mImportError\u001b[0m: cannot import name 'extract_order' from partially initialized module 'obesity_utils' (most likely due to a circular import) (/Users/lukastang/Documents/GitHub/Model_Interpretability/obesity_utils/__init__.py)"
     ]
    }
   ],
   "source": [
    "import pandas as pd\n",
    "from obesity_utils import set_categorical_order as ut"
   ]
  },
  {
   "cell_type": "code",
   "execution_count": null,
   "id": "b84e9515",
   "metadata": {
    "papermill": {
     "duration": null,
     "end_time": null,
     "exception": null,
     "start_time": null,
     "status": "pending"
    },
    "tags": []
   },
   "outputs": [],
   "source": [
    "obesity_dataset = pd.read_csv(upstream['0_source_data']['obesity_data'])\n",
    "obesity_dataset_mappings = pd.read_csv(upstream['0_source_data']['obesity_mappings'])\n",
    "# some data cleaning code..."
   ]
  },
  {
   "cell_type": "code",
   "execution_count": null,
   "id": "95f6847e",
   "metadata": {
    "papermill": {
     "duration": null,
     "end_time": null,
     "exception": null,
     "start_time": null,
     "status": "pending"
    },
    "tags": []
   },
   "outputs": [],
   "source": [
    "# Set the categorical order for the specified variables\n",
    "ut.set_categorical_order(obesity_dataset, obesity_dataset_mappings)"
   ]
  },
  {
   "cell_type": "code",
   "execution_count": null,
   "id": "74b54e2f",
   "metadata": {
    "lines_to_next_cell": 2,
    "papermill": {
     "duration": null,
     "end_time": null,
     "exception": null,
     "start_time": null,
     "status": "pending"
    },
    "tags": []
   },
   "outputs": [],
   "source": [
    "print(\"Cleaned data generated and saved to 'artificial_data.csv'\")"
   ]
  }
 ],
 "metadata": {
  "jupytext": {
   "cell_metadata_filter": "tags,-all",
   "main_language": "python",
   "notebook_metadata_filter": "-all",
   "text_representation": {
    "extension": ".py",
    "format_name": "light"
   }
  },
  "kernelspec": {
   "display_name": "Python 3 (ipykernel)",
   "language": "python",
   "name": "python3"
  },
  "language_info": {
   "codemirror_mode": {
    "name": "ipython",
    "version": 3
   },
   "file_extension": ".py",
   "mimetype": "text/x-python",
   "name": "python",
   "nbconvert_exporter": "python",
   "pygments_lexer": "ipython3",
   "version": "3.10.14"
  },
  "papermill": {
   "duration": 1.387312,
   "end_time": "2024-10-06T19:38:49.696766",
   "exception": true,
   "input_path": "/var/folders/r7/71vqyh_566sb4rd655_gw2300000gn/T/tmp50doix0e.ipynb",
   "output_path": "/Users/lukastang/Documents/GitHub/Model_Interpretability/output/1_clean_data/1_clean_data.ipynb",
   "parameters": {
    "product": {
     "data": "/Users/lukastang/Documents/GitHub/Model_Interpretability/output/1_clean_data/clean_data.csv",
     "nb": "/Users/lukastang/Documents/GitHub/Model_Interpretability/output/1_clean_data/1_clean_data.ipynb"
    },
    "upstream": {
     "0_source_data": {
      "nb": "/Users/lukastang/Documents/GitHub/Model_Interpretability/output/0_source_data/0_source_data.ipynb",
      "obesity_data": "/Users/lukastang/Documents/GitHub/Model_Interpretability/output/0_source_data/Processed_Obesity_Dataset.csv",
      "obesity_mappings": "/Users/lukastang/Documents/GitHub/Model_Interpretability/output/0_source_data/Obesity_Dataset_Mappings.csv",
      "on_finish": "/Users/lukastang/Documents/GitHub/Model_Interpretability/0_source_data_test.py"
     }
    }
   },
   "start_time": "2024-10-06T19:38:48.309454"
  }
 },
 "nbformat": 4,
 "nbformat_minor": 5
}