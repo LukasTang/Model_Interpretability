{
 "cells": [
  {
   "cell_type": "code",
   "execution_count": 1,
   "id": "0c0cab0a",
   "metadata": {
    "execution": {
     "iopub.execute_input": "2024-10-06T16:50:43.981762Z",
     "iopub.status.busy": "2024-10-06T16:50:43.981267Z",
     "iopub.status.idle": "2024-10-06T16:50:43.990021Z",
     "shell.execute_reply": "2024-10-06T16:50:43.989608Z"
    },
    "papermill": {
     "duration": 0.016533,
     "end_time": "2024-10-06T16:50:43.991707",
     "exception": false,
     "start_time": "2024-10-06T16:50:43.975174",
     "status": "completed"
    },
    "tags": [
     "parameters"
    ]
   },
   "outputs": [],
   "source": [
    "# declare a list tasks whose products you want to use as inputsupstream = ['0_source_data']\n",
    "upstream = ['0_source_data']"
   ]
  },
  {
   "cell_type": "code",
   "execution_count": 2,
   "id": "9430a93b",
   "metadata": {
    "execution": {
     "iopub.execute_input": "2024-10-06T16:50:43.996114Z",
     "iopub.status.busy": "2024-10-06T16:50:43.995858Z",
     "iopub.status.idle": "2024-10-06T16:50:43.999018Z",
     "shell.execute_reply": "2024-10-06T16:50:43.998592Z"
    },
    "papermill": {
     "duration": 0.007013,
     "end_time": "2024-10-06T16:50:44.000679",
     "exception": false,
     "start_time": "2024-10-06T16:50:43.993666",
     "status": "completed"
    },
    "tags": [
     "injected-parameters"
    ]
   },
   "outputs": [],
   "source": [
    "# Parameters\n",
    "upstream = {\"0_source_data\": {\"data\": \"/Users/lukastang/Documents/GitHub/Model_Interpretability/output/0_source_data/obesity_dataset.csv\", \"nb\": \"/Users/lukastang/Documents/GitHub/Model_Interpretability/output/0_source_data/0_source_data.ipynb\", \"on_finish\": \"/Users/lukastang/Documents/GitHub/Model_Interpretability/0_source_data_test.py\"}}\n",
    "product = {\"data\": \"/Users/lukastang/Documents/GitHub/Model_Interpretability/output/1_clean_data/clean_data.csv\", \"nb\": \"/Users/lukastang/Documents/GitHub/Model_Interpretability/output/1_clean_data/1_clean_data.ipynb\"}\n"
   ]
  },
  {
   "cell_type": "code",
   "execution_count": 3,
   "id": "2ffc9fc9",
   "metadata": {
    "execution": {
     "iopub.execute_input": "2024-10-06T16:50:44.004156Z",
     "iopub.status.busy": "2024-10-06T16:50:44.003918Z",
     "iopub.status.idle": "2024-10-06T16:50:44.297520Z",
     "shell.execute_reply": "2024-10-06T16:50:44.297234Z"
    },
    "papermill": {
     "duration": 0.296537,
     "end_time": "2024-10-06T16:50:44.298612",
     "exception": false,
     "start_time": "2024-10-06T16:50:44.002075",
     "status": "completed"
    },
    "tags": []
   },
   "outputs": [],
   "source": [
    "import pandas as pd"
   ]
  },
  {
   "cell_type": "code",
   "execution_count": 4,
   "id": "922666a2",
   "metadata": {
    "execution": {
     "iopub.execute_input": "2024-10-06T16:50:44.301105Z",
     "iopub.status.busy": "2024-10-06T16:50:44.300945Z",
     "iopub.status.idle": "2024-10-06T16:50:44.306754Z",
     "shell.execute_reply": "2024-10-06T16:50:44.306483Z"
    },
    "papermill": {
     "duration": 0.008107,
     "end_time": "2024-10-06T16:50:44.307669",
     "exception": false,
     "start_time": "2024-10-06T16:50:44.299562",
     "status": "completed"
    },
    "tags": []
   },
   "outputs": [],
   "source": [
    "df = pd.read_csv(upstream['0_source_data']['data'])\n",
    "# some data cleaning code..."
   ]
  },
  {
   "cell_type": "code",
   "execution_count": 5,
   "id": "5a237b41",
   "metadata": {
    "execution": {
     "iopub.execute_input": "2024-10-06T16:50:44.309592Z",
     "iopub.status.busy": "2024-10-06T16:50:44.309487Z",
     "iopub.status.idle": "2024-10-06T16:50:44.317463Z",
     "shell.execute_reply": "2024-10-06T16:50:44.317177Z"
    },
    "papermill": {
     "duration": 0.010005,
     "end_time": "2024-10-06T16:50:44.318486",
     "exception": false,
     "start_time": "2024-10-06T16:50:44.308481",
     "status": "completed"
    },
    "tags": []
   },
   "outputs": [],
   "source": [
    "df.to_csv('output/1_clean_data/clean_data.csv', index=False)"
   ]
  },
  {
   "cell_type": "code",
   "execution_count": 6,
   "id": "57903cc8",
   "metadata": {
    "execution": {
     "iopub.execute_input": "2024-10-06T16:50:44.320611Z",
     "iopub.status.busy": "2024-10-06T16:50:44.320469Z",
     "iopub.status.idle": "2024-10-06T16:50:44.322479Z",
     "shell.execute_reply": "2024-10-06T16:50:44.322215Z"
    },
    "lines_to_next_cell": 2,
    "papermill": {
     "duration": 0.00416,
     "end_time": "2024-10-06T16:50:44.323460",
     "exception": false,
     "start_time": "2024-10-06T16:50:44.319300",
     "status": "completed"
    },
    "tags": []
   },
   "outputs": [
    {
     "name": "stdout",
     "output_type": "stream",
     "text": [
      "Cleaned data generated and saved to 'artificial_data.csv'\n"
     ]
    }
   ],
   "source": [
    "print(\"Cleaned data generated and saved to 'artificial_data.csv'\")"
   ]
  }
 ],
 "metadata": {
  "jupytext": {
   "cell_metadata_filter": "tags,-all",
   "main_language": "python",
   "notebook_metadata_filter": "-all",
   "text_representation": {
    "extension": ".py",
    "format_name": "light"
   }
  },
  "kernelspec": {
   "display_name": "Python 3 (ipykernel)",
   "language": "python",
   "name": "python3"
  },
  "language_info": {
   "codemirror_mode": {
    "name": "ipython",
    "version": 3
   },
   "file_extension": ".py",
   "mimetype": "text/x-python",
   "name": "python",
   "nbconvert_exporter": "python",
   "pygments_lexer": "ipython3",
   "version": "3.10.14"
  },
  "papermill": {
   "duration": 1.145034,
   "end_time": "2024-10-06T16:50:44.439360",
   "exception": null,
   "input_path": "/var/folders/r7/71vqyh_566sb4rd655_gw2300000gn/T/tmplznkez42.ipynb",
   "output_path": "/Users/lukastang/Documents/GitHub/Model_Interpretability/output/1_clean_data/1_clean_data.ipynb",
   "parameters": {
    "product": {
     "data": "/Users/lukastang/Documents/GitHub/Model_Interpretability/output/1_clean_data/clean_data.csv",
     "nb": "/Users/lukastang/Documents/GitHub/Model_Interpretability/output/1_clean_data/1_clean_data.ipynb"
    },
    "upstream": {
     "0_source_data": {
      "data": "/Users/lukastang/Documents/GitHub/Model_Interpretability/output/0_source_data/obesity_dataset.csv",
      "nb": "/Users/lukastang/Documents/GitHub/Model_Interpretability/output/0_source_data/0_source_data.ipynb",
      "on_finish": "/Users/lukastang/Documents/GitHub/Model_Interpretability/0_source_data_test.py"
     }
    }
   },
   "start_time": "2024-10-06T16:50:43.294326"
  }
 },
 "nbformat": 4,
 "nbformat_minor": 5
}