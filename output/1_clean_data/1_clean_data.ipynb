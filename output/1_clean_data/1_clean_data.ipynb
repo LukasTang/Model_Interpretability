{
 "cells": [
  {
   "cell_type": "code",
   "execution_count": 1,
   "id": "a99135f9",
   "metadata": {
    "execution": {
     "iopub.execute_input": "2024-09-28T20:19:15.244191Z",
     "iopub.status.busy": "2024-09-28T20:19:15.243965Z",
     "iopub.status.idle": "2024-09-28T20:19:15.250018Z",
     "shell.execute_reply": "2024-09-28T20:19:15.249658Z"
    },
    "papermill": {
     "duration": 0.009373,
     "end_time": "2024-09-28T20:19:15.251106",
     "exception": false,
     "start_time": "2024-09-28T20:19:15.241733",
     "status": "completed"
    },
    "tags": [
     "parameters"
    ]
   },
   "outputs": [],
   "source": [
    "# declare a list tasks whose products you want to use as inputsupstream = ['0_source_data']\n",
    "upstream = ['0_source_data']"
   ]
  },
  {
   "cell_type": "code",
   "execution_count": 2,
   "id": "6ea579eb",
   "metadata": {
    "execution": {
     "iopub.execute_input": "2024-09-28T20:19:15.253972Z",
     "iopub.status.busy": "2024-09-28T20:19:15.253717Z",
     "iopub.status.idle": "2024-09-28T20:19:15.255969Z",
     "shell.execute_reply": "2024-09-28T20:19:15.255678Z"
    },
    "papermill": {
     "duration": 0.004699,
     "end_time": "2024-09-28T20:19:15.256981",
     "exception": false,
     "start_time": "2024-09-28T20:19:15.252282",
     "status": "completed"
    },
    "tags": [
     "injected-parameters"
    ]
   },
   "outputs": [],
   "source": [
    "# Parameters\n",
    "upstream = {\"0_source_data\": {\"data\": \"/Users/lukastang/Documents/GitHub/Model_Interpretability/output/0_source_data/artificial_data.csv\", \"nb\": \"/Users/lukastang/Documents/GitHub/Model_Interpretability/output/0_source_data/0_source_data.ipynb\", \"on_finish\": \"/Users/lukastang/Documents/GitHub/Model_Interpretability/0_source_data_test.py\"}}\n",
    "product = {\"data\": \"/Users/lukastang/Documents/GitHub/Model_Interpretability/output/1_clean_data/clean_data.csv\", \"nb\": \"/Users/lukastang/Documents/GitHub/Model_Interpretability/output/1_clean_data/1_clean_data.ipynb\"}\n"
   ]
  },
  {
   "cell_type": "code",
   "execution_count": 3,
   "id": "1ddab44b",
   "metadata": {
    "execution": {
     "iopub.execute_input": "2024-09-28T20:19:15.259341Z",
     "iopub.status.busy": "2024-09-28T20:19:15.259170Z",
     "iopub.status.idle": "2024-09-28T20:19:15.468102Z",
     "shell.execute_reply": "2024-09-28T20:19:15.467294Z"
    },
    "papermill": {
     "duration": 0.213213,
     "end_time": "2024-09-28T20:19:15.471062",
     "exception": false,
     "start_time": "2024-09-28T20:19:15.257849",
     "status": "completed"
    },
    "tags": []
   },
   "outputs": [],
   "source": [
    "import pandas as pd"
   ]
  },
  {
   "cell_type": "code",
   "execution_count": 4,
   "id": "d418fb4e",
   "metadata": {
    "execution": {
     "iopub.execute_input": "2024-09-28T20:19:15.478137Z",
     "iopub.status.busy": "2024-09-28T20:19:15.477757Z",
     "iopub.status.idle": "2024-09-28T20:19:15.486819Z",
     "shell.execute_reply": "2024-09-28T20:19:15.486075Z"
    },
    "papermill": {
     "duration": 0.018004,
     "end_time": "2024-09-28T20:19:15.491711",
     "exception": false,
     "start_time": "2024-09-28T20:19:15.473707",
     "status": "completed"
    },
    "tags": []
   },
   "outputs": [],
   "source": [
    "df = pd.read_csv(upstream['0_source_data']['data'])\n",
    "# some data cleaning code..."
   ]
  },
  {
   "cell_type": "code",
   "execution_count": 5,
   "id": "88a71943",
   "metadata": {
    "execution": {
     "iopub.execute_input": "2024-09-28T20:19:15.498815Z",
     "iopub.status.busy": "2024-09-28T20:19:15.498452Z",
     "iopub.status.idle": "2024-09-28T20:19:15.506689Z",
     "shell.execute_reply": "2024-09-28T20:19:15.505827Z"
    },
    "papermill": {
     "duration": 0.014301,
     "end_time": "2024-09-28T20:19:15.509025",
     "exception": false,
     "start_time": "2024-09-28T20:19:15.494724",
     "status": "completed"
    },
    "tags": []
   },
   "outputs": [],
   "source": [
    "df.to_csv('output/1_clean_data/clean_data.csv', index=False)"
   ]
  },
  {
   "cell_type": "code",
   "execution_count": 6,
   "id": "e4bb71ae",
   "metadata": {
    "execution": {
     "iopub.execute_input": "2024-09-28T20:19:15.516157Z",
     "iopub.status.busy": "2024-09-28T20:19:15.515414Z",
     "iopub.status.idle": "2024-09-28T20:19:15.523129Z",
     "shell.execute_reply": "2024-09-28T20:19:15.522302Z"
    },
    "lines_to_next_cell": 2,
    "papermill": {
     "duration": 0.015328,
     "end_time": "2024-09-28T20:19:15.526563",
     "exception": false,
     "start_time": "2024-09-28T20:19:15.511235",
     "status": "completed"
    },
    "tags": []
   },
   "outputs": [
    {
     "name": "stdout",
     "output_type": "stream",
     "text": [
      "Cleaned data generated and saved to 'artificial_data.csv'\n"
     ]
    }
   ],
   "source": [
    "print(\"Cleaned data generated and saved to 'artificial_data.csv'\")"
   ]
  }
 ],
 "metadata": {
  "jupytext": {
   "cell_metadata_filter": "tags,-all",
   "main_language": "python",
   "notebook_metadata_filter": "-all",
   "text_representation": {
    "extension": ".py",
    "format_name": "light"
   }
  },
  "kernelspec": {
   "display_name": "Python 3 (ipykernel)",
   "language": "python",
   "name": "python3"
  },
  "language_info": {
   "codemirror_mode": {
    "name": "ipython",
    "version": 3
   },
   "file_extension": ".py",
   "mimetype": "text/x-python",
   "name": "python",
   "nbconvert_exporter": "python",
   "pygments_lexer": "ipython3",
   "version": "3.10.14"
  },
  "papermill": {
   "duration": 0.931719,
   "end_time": "2024-09-28T20:19:15.648362",
   "exception": null,
   "input_path": "/var/folders/r7/71vqyh_566sb4rd655_gw2300000gn/T/tmp8nlod6bh.ipynb",
   "output_path": "/Users/lukastang/Documents/GitHub/Model_Interpretability/output/1_clean_data/1_clean_data.ipynb",
   "parameters": {
    "product": {
     "data": "/Users/lukastang/Documents/GitHub/Model_Interpretability/output/1_clean_data/clean_data.csv",
     "nb": "/Users/lukastang/Documents/GitHub/Model_Interpretability/output/1_clean_data/1_clean_data.ipynb"
    },
    "upstream": {
     "0_source_data": {
      "data": "/Users/lukastang/Documents/GitHub/Model_Interpretability/output/0_source_data/artificial_data.csv",
      "nb": "/Users/lukastang/Documents/GitHub/Model_Interpretability/output/0_source_data/0_source_data.ipynb",
      "on_finish": "/Users/lukastang/Documents/GitHub/Model_Interpretability/0_source_data_test.py"
     }
    }
   },
   "start_time": "2024-09-28T20:19:14.716643"
  }
 },
 "nbformat": 4,
 "nbformat_minor": 5
}